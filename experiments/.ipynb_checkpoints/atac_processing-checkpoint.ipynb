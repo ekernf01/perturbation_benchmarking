{
 "cells": [
  {
   "cell_type": "code",
   "execution_count": 1,
   "id": "99857f43",
   "metadata": {},
   "outputs": [
    {
     "ename": "ModuleNotFoundError",
     "evalue": "No module named 'celloracle'",
     "output_type": "error",
     "traceback": [
      "\u001b[0;31m---------------------------------------------------------------------------\u001b[0m",
      "\u001b[0;31mModuleNotFoundError\u001b[0m                       Traceback (most recent call last)",
      "Input \u001b[0;32mIn [1]\u001b[0m, in \u001b[0;36m<module>\u001b[0;34m\u001b[0m\n\u001b[1;32m      7\u001b[0m \u001b[38;5;28;01mfrom\u001b[39;00m \u001b[38;5;21;01mtqdm\u001b[39;00m \u001b[38;5;28;01mimport\u001b[39;00m tqdm_notebook \u001b[38;5;28;01mas\u001b[39;00m tqdm\n\u001b[1;32m      8\u001b[0m \u001b[38;5;28;01mfrom\u001b[39;00m \u001b[38;5;21;01mtqdm\u001b[39;00m\u001b[38;5;21;01m.\u001b[39;00m\u001b[38;5;21;01mnotebook\u001b[39;00m \u001b[38;5;28;01mimport\u001b[39;00m tqdm\n\u001b[0;32m----> 9\u001b[0m \u001b[38;5;28;01mfrom\u001b[39;00m \u001b[38;5;21;01mcelloracle\u001b[39;00m \u001b[38;5;28;01mimport\u001b[39;00m motif_analysis \u001b[38;5;28;01mas\u001b[39;00m ma\n\u001b[1;32m     10\u001b[0m \u001b[38;5;28;01mfrom\u001b[39;00m \u001b[38;5;21;01mcelloracle\u001b[39;00m\u001b[38;5;21;01m.\u001b[39;00m\u001b[38;5;21;01mutility\u001b[39;00m \u001b[38;5;28;01mimport\u001b[39;00m save_as_pickled_object\n\u001b[1;32m     11\u001b[0m get_ipython()\u001b[38;5;241m.\u001b[39mrun_line_magic(\u001b[38;5;124m'\u001b[39m\u001b[38;5;124mconfig\u001b[39m\u001b[38;5;124m'\u001b[39m, \u001b[38;5;124m\"\u001b[39m\u001b[38;5;124mInlineBackend.figure_format = \u001b[39m\u001b[38;5;124m'\u001b[39m\u001b[38;5;124mretina\u001b[39m\u001b[38;5;124m'\u001b[39m\u001b[38;5;124m\"\u001b[39m)\n",
      "\u001b[0;31mModuleNotFoundError\u001b[0m: No module named 'celloracle'"
     ]
    }
   ],
   "source": [
    "import scanpy as sc\n",
    "import pandas as pd\n",
    "import numpy as np\n",
    "import matplotlib.pyplot as plt\n",
    "import seaborn as sns\n",
    "import os, sys, shutil, importlib, glob\n",
    "from tqdm import tqdm_notebook as tqdm\n",
    "from tqdm.notebook import tqdm\n",
    "from celloracle import motif_analysis as ma\n",
    "from celloracle.utility import save_as_pickled_object\n",
    "%config InlineBackend.figure_format = 'retina'\n",
    "%matplotlib inline\n",
    "plt.rcParams['figure.figsize'] = [6, 4.5]\n",
    "plt.rcParams[\"savefig.dpi\"] = 300"
   ]
  },
  {
   "cell_type": "code",
   "execution_count": null,
   "id": "82b9c4e6",
   "metadata": {},
   "outputs": [],
   "source": [
    "!conda install -y fa2\n",
    "!pip3 install git+https://github.com/morris-lab/CellOracle.git"
   ]
  },
  {
   "cell_type": "code",
   "execution_count": null,
   "id": "c3c7663e",
   "metadata": {},
   "outputs": [],
   "source": [
    "# Load bed_file\n",
    "file_path_of_bed_file = \"bulk_ATAC_seq_peak_data.bed\" \n",
    "bed = ma.read_bed(file_path_of_bed_file)\n",
    "print(bed.shape)\n",
    "bed.head()\n",
    "\n",
    "# Convert bed file into peak name list\n",
    "peaks = ma.process_bed_file.df_to_list_peakstr(bed)\n",
    "peaks\n",
    "\n",
    "# Make TSS annotation\n",
    "tss_annotated = ma.get_tss_info(peak_str_list=peaks, ref_genome=???)\n",
    "\n",
    "# Change format\n",
    "peak_id_tss = ma.process_bed_file.df_to_list_peakstr(tss_annotated)\n",
    "tss_annotated = pd.DataFrame({\"peak_id\": peak_id_tss,\n",
    "                              \"gene_short_name\": tss_annotated.gene_short_name.values})\n",
    "tss_annotated = tss_annotated.reset_index(drop=True)\n",
    "tss_annotated.to_csv(\"processed_peak_file.csv\")"
   ]
  },
  {
   "cell_type": "code",
   "execution_count": null,
   "id": "c1635171",
   "metadata": {},
   "outputs": [],
   "source": [
    "\n",
    "\n",
    "plt.rcParams['figure.figsize'] = (15,7)\n",
    "plt.rcParams[\"savefig.dpi\"] = 600\n",
    "1. Rerefence genome data preparation\n",
    "Before starting the analysis, we need to make sure the reference genome data is installed. If not, please install the correct reference genome using the instructions below.\n",
    "\n",
    "# PLEASE make sure reference genome is correct.\n",
    "ref_genome = \"mm10\"\n",
    "\n",
    "genome_installation = ma.is_genome_installed(ref_genome=ref_genome)\n",
    "print(ref_genome, \"installation: \", genome_installation)\n",
    "mm10 installation:  True\n",
    "if not genome_installation:\n",
    "    import genomepy\n",
    "    genomepy.install_genome(ref_genome, \"UCSC\")\n",
    "else:\n",
    "    print(ref_genome, \"is installed.\")\n",
    "    \n",
    "    \n",
    "    \n"
   ]
  },
  {
   "cell_type": "code",
   "execution_count": null,
   "id": "fad25c73",
   "metadata": {},
   "outputs": [],
   "source": [
    "# Instantiate TFinfo object\n",
    "tfi = ma.TFinfo(peak_data_frame=peaks,\n",
    "                ref_genome=ref_genome)\n",
    "\n",
    "\n",
    "%%time\n",
    "# Scan motifs. !!CAUTION!! This step may take several hours if you have many peaks!\n",
    "tfi.scan(fpr=0.02,\n",
    "         motifs=None,  # If you enter None, default motifs will be loaded.\n",
    "         verbose=True)\n",
    "\n",
    "# Save tfinfo object\n",
    "tfi.to_hdf5(file_path=\"test1.celloracle.tfinfo\")\n",
    "\n",
    "# Reset filtering\n",
    "tfi.reset_filtering()\n",
    "\n",
    "# Do filtering\n",
    "tfi.filter_motifs_by_score(threshold=10)\n",
    "\n",
    "# Format post-filtering results.\n",
    "tfi.make_TFinfo_dataframe_and_dictionary(verbose=True)\n",
    "\n",
    "# Save result as a dataframe\n",
    "df = tfi.to_dataframe()\n",
    "df.to_parquet(os.path.join(folder, \"base_GRN_dataframe.parquet\"))\n"
   ]
  }
 ],
 "metadata": {
  "kernelspec": {
   "display_name": "Python 3 (ipykernel)",
   "language": "python",
   "name": "python3"
  },
  "language_info": {
   "codemirror_mode": {
    "name": "ipython",
    "version": 3
   },
   "file_extension": ".py",
   "mimetype": "text/x-python",
   "name": "python",
   "nbconvert_exporter": "python",
   "pygments_lexer": "ipython3",
   "version": "3.9.7"
  }
 },
 "nbformat": 4,
 "nbformat_minor": 5
}
